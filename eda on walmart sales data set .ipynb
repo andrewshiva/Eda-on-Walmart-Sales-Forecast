{
  "nbformat": 4,
  "nbformat_minor": 0,
  "metadata": {
    "colab": {
      "name": "Untitled34.ipynb",
      "provenance": [],
      "authorship_tag": "ABX9TyO6nWaCeyqp/D2hiIfmdV7K",
      "include_colab_link": true
    },
    "kernelspec": {
      "name": "python3",
      "display_name": "Python 3"
    }
  },
  "cells": [
    {
      "cell_type": "markdown",
      "metadata": {
        "id": "view-in-github",
        "colab_type": "text"
      },
      "source": [
        "<a href=\"https://colab.research.google.com/github/andrewshiva/Eda-on-Walmart-Sales-Forecast/blob/master/eda%20on%20walmart%20sales%20data%20set%20.ipynb\" target=\"_parent\"><img src=\"https://colab.research.google.com/assets/colab-badge.svg\" alt=\"Open In Colab\"/></a>"
      ]
    },
    {
      "cell_type": "code",
      "metadata": {
        "id": "QKxoi7t2VKUz",
        "colab_type": "code",
        "colab": {
          "base_uri": "https://localhost:8080/",
          "height": 305
        },
        "outputId": "be4044b5-c3b3-4e2e-cfb1-b130721658c9"
      },
      "source": [
        "import sweetviz as sv\n",
        "import pandas as pd\n",
        "df = pd.read_csv('/content/features.csv')\n",
        "train_df = pd.read_csv('/content/train.csv')\n",
        "test_df = pd.read_csv('/content/test.csv')\n",
        "features_df = pd.read_csv('/content/features.csv')\n",
        "store_df =pd.read_csv('/content/stores.csv')\n",
        "df.head()"
      ],
      "execution_count": 36,
      "outputs": [
        {
          "output_type": "execute_result",
          "data": {
            "text/html": [
              "<div>\n",
              "<style scoped>\n",
              "    .dataframe tbody tr th:only-of-type {\n",
              "        vertical-align: middle;\n",
              "    }\n",
              "\n",
              "    .dataframe tbody tr th {\n",
              "        vertical-align: top;\n",
              "    }\n",
              "\n",
              "    .dataframe thead th {\n",
              "        text-align: right;\n",
              "    }\n",
              "</style>\n",
              "<table border=\"1\" class=\"dataframe\">\n",
              "  <thead>\n",
              "    <tr style=\"text-align: right;\">\n",
              "      <th></th>\n",
              "      <th>Store</th>\n",
              "      <th>Date</th>\n",
              "      <th>Temperature</th>\n",
              "      <th>Fuel_Price</th>\n",
              "      <th>MarkDown1</th>\n",
              "      <th>MarkDown2</th>\n",
              "      <th>MarkDown3</th>\n",
              "      <th>MarkDown4</th>\n",
              "      <th>MarkDown5</th>\n",
              "      <th>CPI</th>\n",
              "      <th>Unemployment</th>\n",
              "      <th>IsHoliday</th>\n",
              "    </tr>\n",
              "  </thead>\n",
              "  <tbody>\n",
              "    <tr>\n",
              "      <th>0</th>\n",
              "      <td>1</td>\n",
              "      <td>2010-02-05</td>\n",
              "      <td>42.31</td>\n",
              "      <td>2.572</td>\n",
              "      <td>NaN</td>\n",
              "      <td>NaN</td>\n",
              "      <td>NaN</td>\n",
              "      <td>NaN</td>\n",
              "      <td>NaN</td>\n",
              "      <td>211.096358</td>\n",
              "      <td>8.106</td>\n",
              "      <td>False</td>\n",
              "    </tr>\n",
              "    <tr>\n",
              "      <th>1</th>\n",
              "      <td>1</td>\n",
              "      <td>2010-02-12</td>\n",
              "      <td>38.51</td>\n",
              "      <td>2.548</td>\n",
              "      <td>NaN</td>\n",
              "      <td>NaN</td>\n",
              "      <td>NaN</td>\n",
              "      <td>NaN</td>\n",
              "      <td>NaN</td>\n",
              "      <td>211.242170</td>\n",
              "      <td>8.106</td>\n",
              "      <td>True</td>\n",
              "    </tr>\n",
              "    <tr>\n",
              "      <th>2</th>\n",
              "      <td>1</td>\n",
              "      <td>2010-02-19</td>\n",
              "      <td>39.93</td>\n",
              "      <td>2.514</td>\n",
              "      <td>NaN</td>\n",
              "      <td>NaN</td>\n",
              "      <td>NaN</td>\n",
              "      <td>NaN</td>\n",
              "      <td>NaN</td>\n",
              "      <td>211.289143</td>\n",
              "      <td>8.106</td>\n",
              "      <td>False</td>\n",
              "    </tr>\n",
              "    <tr>\n",
              "      <th>3</th>\n",
              "      <td>1</td>\n",
              "      <td>2010-02-26</td>\n",
              "      <td>46.63</td>\n",
              "      <td>2.561</td>\n",
              "      <td>NaN</td>\n",
              "      <td>NaN</td>\n",
              "      <td>NaN</td>\n",
              "      <td>NaN</td>\n",
              "      <td>NaN</td>\n",
              "      <td>211.319643</td>\n",
              "      <td>8.106</td>\n",
              "      <td>False</td>\n",
              "    </tr>\n",
              "    <tr>\n",
              "      <th>4</th>\n",
              "      <td>1</td>\n",
              "      <td>2010-03-05</td>\n",
              "      <td>46.50</td>\n",
              "      <td>2.625</td>\n",
              "      <td>NaN</td>\n",
              "      <td>NaN</td>\n",
              "      <td>NaN</td>\n",
              "      <td>NaN</td>\n",
              "      <td>NaN</td>\n",
              "      <td>211.350143</td>\n",
              "      <td>8.106</td>\n",
              "      <td>False</td>\n",
              "    </tr>\n",
              "  </tbody>\n",
              "</table>\n",
              "</div>"
            ],
            "text/plain": [
              "   Store        Date  Temperature  ...         CPI  Unemployment  IsHoliday\n",
              "0      1  2010-02-05        42.31  ...  211.096358         8.106      False\n",
              "1      1  2010-02-12        38.51  ...  211.242170         8.106       True\n",
              "2      1  2010-02-19        39.93  ...  211.289143         8.106      False\n",
              "3      1  2010-02-26        46.63  ...  211.319643         8.106      False\n",
              "4      1  2010-03-05        46.50  ...  211.350143         8.106      False\n",
              "\n",
              "[5 rows x 12 columns]"
            ]
          },
          "metadata": {
            "tags": []
          },
          "execution_count": 36
        }
      ]
    },
    {
      "cell_type": "code",
      "metadata": {
        "id": "O8GXuQEAgLtB",
        "colab_type": "code",
        "colab": {
          "base_uri": "https://localhost:8080/",
          "height": 72
        },
        "outputId": "5f8dffac-0b9d-405a-ee23-b36a7d857218"
      },
      "source": [
        "my_report = sv.analyze(df)\n",
        "my_report.show_html()\n"
      ],
      "execution_count": 12,
      "outputs": [
        {
          "output_type": "stream",
          "text": [
            ":FEATURES DONE:                    |                     | [  0%]   00:05  -> (00:00 left)\n",
            ":PAIRWISE DONE:                    |█████████████████████| [100%]   00:00  -> (00:00 left)\n"
          ],
          "name": "stderr"
        },
        {
          "output_type": "stream",
          "text": [
            "Creating Associations graph... DONE!\n"
          ],
          "name": "stdout"
        }
      ]
    },
    {
      "cell_type": "code",
      "metadata": {
        "id": "1jIUuolSkl5E",
        "colab_type": "code",
        "colab": {
          "base_uri": "https://localhost:8080/",
          "height": 198
        },
        "outputId": "1c90958f-7215-43cd-a168-035609a8c6c6"
      },
      "source": [
        "train_df.head()"
      ],
      "execution_count": 41,
      "outputs": [
        {
          "output_type": "execute_result",
          "data": {
            "text/html": [
              "<div>\n",
              "<style scoped>\n",
              "    .dataframe tbody tr th:only-of-type {\n",
              "        vertical-align: middle;\n",
              "    }\n",
              "\n",
              "    .dataframe tbody tr th {\n",
              "        vertical-align: top;\n",
              "    }\n",
              "\n",
              "    .dataframe thead th {\n",
              "        text-align: right;\n",
              "    }\n",
              "</style>\n",
              "<table border=\"1\" class=\"dataframe\">\n",
              "  <thead>\n",
              "    <tr style=\"text-align: right;\">\n",
              "      <th></th>\n",
              "      <th>Store</th>\n",
              "      <th>Dept</th>\n",
              "      <th>Date</th>\n",
              "      <th>Weekly_Sales</th>\n",
              "      <th>IsHoliday</th>\n",
              "    </tr>\n",
              "  </thead>\n",
              "  <tbody>\n",
              "    <tr>\n",
              "      <th>0</th>\n",
              "      <td>1</td>\n",
              "      <td>1</td>\n",
              "      <td>2010-02-05</td>\n",
              "      <td>24924.50</td>\n",
              "      <td>False</td>\n",
              "    </tr>\n",
              "    <tr>\n",
              "      <th>1</th>\n",
              "      <td>1</td>\n",
              "      <td>1</td>\n",
              "      <td>2010-02-12</td>\n",
              "      <td>46039.49</td>\n",
              "      <td>True</td>\n",
              "    </tr>\n",
              "    <tr>\n",
              "      <th>2</th>\n",
              "      <td>1</td>\n",
              "      <td>1</td>\n",
              "      <td>2010-02-19</td>\n",
              "      <td>41595.55</td>\n",
              "      <td>False</td>\n",
              "    </tr>\n",
              "    <tr>\n",
              "      <th>3</th>\n",
              "      <td>1</td>\n",
              "      <td>1</td>\n",
              "      <td>2010-02-26</td>\n",
              "      <td>19403.54</td>\n",
              "      <td>False</td>\n",
              "    </tr>\n",
              "    <tr>\n",
              "      <th>4</th>\n",
              "      <td>1</td>\n",
              "      <td>1</td>\n",
              "      <td>2010-03-05</td>\n",
              "      <td>21827.90</td>\n",
              "      <td>False</td>\n",
              "    </tr>\n",
              "  </tbody>\n",
              "</table>\n",
              "</div>"
            ],
            "text/plain": [
              "   Store  Dept        Date  Weekly_Sales  IsHoliday\n",
              "0      1     1  2010-02-05      24924.50      False\n",
              "1      1     1  2010-02-12      46039.49       True\n",
              "2      1     1  2010-02-19      41595.55      False\n",
              "3      1     1  2010-02-26      19403.54      False\n",
              "4      1     1  2010-03-05      21827.90      False"
            ]
          },
          "metadata": {
            "tags": []
          },
          "execution_count": 41
        }
      ]
    },
    {
      "cell_type": "code",
      "metadata": {
        "id": "TnNAxL5niASa",
        "colab_type": "code",
        "colab": {
          "base_uri": "https://localhost:8080/",
          "height": 1000
        },
        "outputId": "83cb718e-c748-4a76-9c0b-142c7954fbe3"
      },
      "source": [
        "my_report = sv.analyze([train_df,\"Training\"],target_feat='Weekly_Sales')\n",
        "\n",
        "\n"
      ],
      "execution_count": 42,
      "outputs": [
        {
          "output_type": "stream",
          "text": [
            "\n",
            "\n",
            "\n",
            "                                   |                         | [  0%]   00:00  -> (? left)\u001b[A\u001b[A\u001b[A\n",
            "\n",
            "\n",
            "Summarizing dataframe:             |                         | [  0%]   00:00  -> (? left)\u001b[A\u001b[A\u001b[A\n",
            "\n",
            "\n",
            "Summarizing dataframe:             |███▌                 | [ 17%]   00:00  -> (00:00 left)\u001b[A\u001b[A\u001b[A\n",
            "\n",
            "\n",
            ":TARGET::                          |███▌                 | [ 17%]   00:00  -> (00:00 left)\u001b[A\u001b[A\u001b[A\n",
            "\n",
            "\n",
            ":TARGET::                          |███████              | [ 33%]   00:01  -> (00:01 left)\u001b[A\u001b[A\u001b[A\n",
            "\n",
            "\n",
            ":Store:                            |███████              | [ 33%]   00:01  -> (00:01 left)\u001b[A\u001b[A\u001b[A\n",
            "\n",
            "\n",
            ":Store:                            |██████████▌          | [ 50%]   00:01  -> (00:01 left)\u001b[A\u001b[A\u001b[A\n",
            "\n",
            "\n",
            ":Dept:                             |██████████▌          | [ 50%]   00:01  -> (00:01 left)\u001b[A\u001b[A\u001b[A\n",
            "\n",
            "\n",
            ":Dept:                             |██████████████       | [ 67%]   00:03  -> (00:01 left)\u001b[A\u001b[A\u001b[A\n",
            "\n",
            "\n",
            ":Date:                             |██████████████       | [ 67%]   00:03  -> (00:01 left)\u001b[A\u001b[A\u001b[A\n",
            "\n",
            "\n",
            ":Date:                             |█████████████████▌   | [ 83%]   00:03  -> (00:00 left)\u001b[A\u001b[A\u001b[A\n",
            "\n",
            "\n",
            ":IsHoliday:                        |█████████████████▌   | [ 83%]   00:03  -> (00:00 left)\u001b[A\u001b[A\u001b[A\n",
            "\n",
            "\n",
            ":IsHoliday:                        |█████████████████████| [100%]   00:03  -> (00:00 left)\u001b[A\u001b[A\u001b[A\n",
            "\n",
            "\n",
            ":FEATURES DONE:                    |█████████████████████| [100%]   00:03  -> (00:00 left)\n",
            "\n",
            "\n",
            "\n",
            "                                   |                         | [  0%]   00:00  -> (? left)\u001b[A\u001b[A\u001b[A\n",
            "\n",
            "\n",
            ":Processing Pairwise Features:     |                         | [  0%]   00:00  -> (? left)\u001b[A\u001b[A\u001b[A\n",
            "\n",
            "\n",
            ":Processing Pairwise Features:     |█████████████████████| [100%]   00:00  -> (00:00 left)\u001b[A\u001b[A\u001b[A\n",
            "\n",
            "\n",
            ":PAIRWISE DONE:                    |█████████████████████| [100%]   00:00  -> (00:00 left)\n"
          ],
          "name": "stderr"
        },
        {
          "output_type": "stream",
          "text": [
            "Creating Associations graph... DONE!\n"
          ],
          "name": "stdout"
        }
      ]
    },
    {
      "cell_type": "code",
      "metadata": {
        "id": "DM711pk1pnuQ",
        "colab_type": "code",
        "colab": {}
      },
      "source": [
        "my_report.show_html('Report.html')"
      ],
      "execution_count": 33,
      "outputs": []
    },
    {
      "cell_type": "code",
      "metadata": {
        "id": "0p5CHHglvTur",
        "colab_type": "code",
        "colab": {}
      },
      "source": [
        ""
      ],
      "execution_count": null,
      "outputs": []
    },
    {
      "cell_type": "code",
      "metadata": {
        "id": "yNy547i_r2QR",
        "colab_type": "code",
        "colab": {
          "base_uri": "https://localhost:8080/",
          "height": 198
        },
        "outputId": "8f589f80-b734-4d9a-d717-e5a3b5cd6d43"
      },
      "source": [
        "test_df.tail()"
      ],
      "execution_count": 34,
      "outputs": [
        {
          "output_type": "execute_result",
          "data": {
            "text/html": [
              "<div>\n",
              "<style scoped>\n",
              "    .dataframe tbody tr th:only-of-type {\n",
              "        vertical-align: middle;\n",
              "    }\n",
              "\n",
              "    .dataframe tbody tr th {\n",
              "        vertical-align: top;\n",
              "    }\n",
              "\n",
              "    .dataframe thead th {\n",
              "        text-align: right;\n",
              "    }\n",
              "</style>\n",
              "<table border=\"1\" class=\"dataframe\">\n",
              "  <thead>\n",
              "    <tr style=\"text-align: right;\">\n",
              "      <th></th>\n",
              "      <th>Store</th>\n",
              "      <th>Dept</th>\n",
              "      <th>Date</th>\n",
              "      <th>IsHoliday</th>\n",
              "    </tr>\n",
              "  </thead>\n",
              "  <tbody>\n",
              "    <tr>\n",
              "      <th>115059</th>\n",
              "      <td>45</td>\n",
              "      <td>98</td>\n",
              "      <td>2013-06-28</td>\n",
              "      <td>False</td>\n",
              "    </tr>\n",
              "    <tr>\n",
              "      <th>115060</th>\n",
              "      <td>45</td>\n",
              "      <td>98</td>\n",
              "      <td>2013-07-05</td>\n",
              "      <td>False</td>\n",
              "    </tr>\n",
              "    <tr>\n",
              "      <th>115061</th>\n",
              "      <td>45</td>\n",
              "      <td>98</td>\n",
              "      <td>2013-07-12</td>\n",
              "      <td>False</td>\n",
              "    </tr>\n",
              "    <tr>\n",
              "      <th>115062</th>\n",
              "      <td>45</td>\n",
              "      <td>98</td>\n",
              "      <td>2013-07-19</td>\n",
              "      <td>False</td>\n",
              "    </tr>\n",
              "    <tr>\n",
              "      <th>115063</th>\n",
              "      <td>45</td>\n",
              "      <td>98</td>\n",
              "      <td>2013-07-26</td>\n",
              "      <td>False</td>\n",
              "    </tr>\n",
              "  </tbody>\n",
              "</table>\n",
              "</div>"
            ],
            "text/plain": [
              "        Store  Dept        Date  IsHoliday\n",
              "115059     45    98  2013-06-28      False\n",
              "115060     45    98  2013-07-05      False\n",
              "115061     45    98  2013-07-12      False\n",
              "115062     45    98  2013-07-19      False\n",
              "115063     45    98  2013-07-26      False"
            ]
          },
          "metadata": {
            "tags": []
          },
          "execution_count": 34
        }
      ]
    },
    {
      "cell_type": "code",
      "metadata": {
        "id": "zCmooGWZse0t",
        "colab_type": "code",
        "colab": {
          "base_uri": "https://localhost:8080/",
          "height": 305
        },
        "outputId": "0d19b3f8-e1d5-4d52-b63a-fc0a084e675f"
      },
      "source": [
        "features_df.head()"
      ],
      "execution_count": 35,
      "outputs": [
        {
          "output_type": "execute_result",
          "data": {
            "text/html": [
              "<div>\n",
              "<style scoped>\n",
              "    .dataframe tbody tr th:only-of-type {\n",
              "        vertical-align: middle;\n",
              "    }\n",
              "\n",
              "    .dataframe tbody tr th {\n",
              "        vertical-align: top;\n",
              "    }\n",
              "\n",
              "    .dataframe thead th {\n",
              "        text-align: right;\n",
              "    }\n",
              "</style>\n",
              "<table border=\"1\" class=\"dataframe\">\n",
              "  <thead>\n",
              "    <tr style=\"text-align: right;\">\n",
              "      <th></th>\n",
              "      <th>Store</th>\n",
              "      <th>Date</th>\n",
              "      <th>Temperature</th>\n",
              "      <th>Fuel_Price</th>\n",
              "      <th>MarkDown1</th>\n",
              "      <th>MarkDown2</th>\n",
              "      <th>MarkDown3</th>\n",
              "      <th>MarkDown4</th>\n",
              "      <th>MarkDown5</th>\n",
              "      <th>CPI</th>\n",
              "      <th>Unemployment</th>\n",
              "      <th>IsHoliday</th>\n",
              "    </tr>\n",
              "  </thead>\n",
              "  <tbody>\n",
              "    <tr>\n",
              "      <th>0</th>\n",
              "      <td>1</td>\n",
              "      <td>2010-02-05</td>\n",
              "      <td>42.31</td>\n",
              "      <td>2.572</td>\n",
              "      <td>NaN</td>\n",
              "      <td>NaN</td>\n",
              "      <td>NaN</td>\n",
              "      <td>NaN</td>\n",
              "      <td>NaN</td>\n",
              "      <td>211.096358</td>\n",
              "      <td>8.106</td>\n",
              "      <td>False</td>\n",
              "    </tr>\n",
              "    <tr>\n",
              "      <th>1</th>\n",
              "      <td>1</td>\n",
              "      <td>2010-02-12</td>\n",
              "      <td>38.51</td>\n",
              "      <td>2.548</td>\n",
              "      <td>NaN</td>\n",
              "      <td>NaN</td>\n",
              "      <td>NaN</td>\n",
              "      <td>NaN</td>\n",
              "      <td>NaN</td>\n",
              "      <td>211.242170</td>\n",
              "      <td>8.106</td>\n",
              "      <td>True</td>\n",
              "    </tr>\n",
              "    <tr>\n",
              "      <th>2</th>\n",
              "      <td>1</td>\n",
              "      <td>2010-02-19</td>\n",
              "      <td>39.93</td>\n",
              "      <td>2.514</td>\n",
              "      <td>NaN</td>\n",
              "      <td>NaN</td>\n",
              "      <td>NaN</td>\n",
              "      <td>NaN</td>\n",
              "      <td>NaN</td>\n",
              "      <td>211.289143</td>\n",
              "      <td>8.106</td>\n",
              "      <td>False</td>\n",
              "    </tr>\n",
              "    <tr>\n",
              "      <th>3</th>\n",
              "      <td>1</td>\n",
              "      <td>2010-02-26</td>\n",
              "      <td>46.63</td>\n",
              "      <td>2.561</td>\n",
              "      <td>NaN</td>\n",
              "      <td>NaN</td>\n",
              "      <td>NaN</td>\n",
              "      <td>NaN</td>\n",
              "      <td>NaN</td>\n",
              "      <td>211.319643</td>\n",
              "      <td>8.106</td>\n",
              "      <td>False</td>\n",
              "    </tr>\n",
              "    <tr>\n",
              "      <th>4</th>\n",
              "      <td>1</td>\n",
              "      <td>2010-03-05</td>\n",
              "      <td>46.50</td>\n",
              "      <td>2.625</td>\n",
              "      <td>NaN</td>\n",
              "      <td>NaN</td>\n",
              "      <td>NaN</td>\n",
              "      <td>NaN</td>\n",
              "      <td>NaN</td>\n",
              "      <td>211.350143</td>\n",
              "      <td>8.106</td>\n",
              "      <td>False</td>\n",
              "    </tr>\n",
              "  </tbody>\n",
              "</table>\n",
              "</div>"
            ],
            "text/plain": [
              "   Store        Date  Temperature  ...         CPI  Unemployment  IsHoliday\n",
              "0      1  2010-02-05        42.31  ...  211.096358         8.106      False\n",
              "1      1  2010-02-12        38.51  ...  211.242170         8.106       True\n",
              "2      1  2010-02-19        39.93  ...  211.289143         8.106      False\n",
              "3      1  2010-02-26        46.63  ...  211.319643         8.106      False\n",
              "4      1  2010-03-05        46.50  ...  211.350143         8.106      False\n",
              "\n",
              "[5 rows x 12 columns]"
            ]
          },
          "metadata": {
            "tags": []
          },
          "execution_count": 35
        }
      ]
    },
    {
      "cell_type": "code",
      "metadata": {
        "id": "-F_H-gPpsqjN",
        "colab_type": "code",
        "colab": {
          "base_uri": "https://localhost:8080/",
          "height": 198
        },
        "outputId": "c42ac09f-a792-4a70-ffab-65b549bb2243"
      },
      "source": [
        "store_df.head()"
      ],
      "execution_count": 38,
      "outputs": [
        {
          "output_type": "execute_result",
          "data": {
            "text/html": [
              "<div>\n",
              "<style scoped>\n",
              "    .dataframe tbody tr th:only-of-type {\n",
              "        vertical-align: middle;\n",
              "    }\n",
              "\n",
              "    .dataframe tbody tr th {\n",
              "        vertical-align: top;\n",
              "    }\n",
              "\n",
              "    .dataframe thead th {\n",
              "        text-align: right;\n",
              "    }\n",
              "</style>\n",
              "<table border=\"1\" class=\"dataframe\">\n",
              "  <thead>\n",
              "    <tr style=\"text-align: right;\">\n",
              "      <th></th>\n",
              "      <th>Store</th>\n",
              "      <th>Type</th>\n",
              "      <th>Size</th>\n",
              "    </tr>\n",
              "  </thead>\n",
              "  <tbody>\n",
              "    <tr>\n",
              "      <th>0</th>\n",
              "      <td>1</td>\n",
              "      <td>A</td>\n",
              "      <td>151315</td>\n",
              "    </tr>\n",
              "    <tr>\n",
              "      <th>1</th>\n",
              "      <td>2</td>\n",
              "      <td>A</td>\n",
              "      <td>202307</td>\n",
              "    </tr>\n",
              "    <tr>\n",
              "      <th>2</th>\n",
              "      <td>3</td>\n",
              "      <td>B</td>\n",
              "      <td>37392</td>\n",
              "    </tr>\n",
              "    <tr>\n",
              "      <th>3</th>\n",
              "      <td>4</td>\n",
              "      <td>A</td>\n",
              "      <td>205863</td>\n",
              "    </tr>\n",
              "    <tr>\n",
              "      <th>4</th>\n",
              "      <td>5</td>\n",
              "      <td>B</td>\n",
              "      <td>34875</td>\n",
              "    </tr>\n",
              "  </tbody>\n",
              "</table>\n",
              "</div>"
            ],
            "text/plain": [
              "   Store Type    Size\n",
              "0      1    A  151315\n",
              "1      2    A  202307\n",
              "2      3    B   37392\n",
              "3      4    A  205863\n",
              "4      5    B   34875"
            ]
          },
          "metadata": {
            "tags": []
          },
          "execution_count": 38
        }
      ]
    },
    {
      "cell_type": "code",
      "metadata": {
        "id": "R_7-8qkJtNBl",
        "colab_type": "code",
        "colab": {
          "base_uri": "https://localhost:8080/",
          "height": 1000
        },
        "outputId": "ba83a7e0-8607-4897-f2be-6b7554745a38"
      },
      "source": [
        "my_report1 = sv.compare([train_df,\"Train\"], [test_df,\"Test\"],\"Weekly_Sales\")"
      ],
      "execution_count": 50,
      "outputs": [
        {
          "output_type": "stream",
          "text": [
            "\n",
            "\n",
            "\n",
            "                                   |                         | [  0%]   00:00  -> (? left)\u001b[A\u001b[A\u001b[A\n",
            "\n",
            "\n",
            "Summarizing dataframe:             |                         | [  0%]   00:00  -> (? left)\u001b[A\u001b[A\u001b[A\n",
            "\n",
            "\n",
            "Summarizing dataframe:             |███▌                 | [ 17%]   00:00  -> (00:01 left)\u001b[A\u001b[A\u001b[A\n",
            "\n",
            "\n",
            ":TARGET::                          |███▌                 | [ 17%]   00:00  -> (00:01 left)\u001b[A\u001b[A\u001b[A\n",
            "\n",
            "\n",
            ":TARGET::                          |███████              | [ 33%]   00:01  -> (00:01 left)\u001b[A\u001b[A\u001b[A\n",
            "\n",
            "\n",
            ":Store:                            |███████              | [ 33%]   00:01  -> (00:01 left)\u001b[A\u001b[A\u001b[A\n",
            "\n",
            "\n",
            ":Store:                            |██████████▌          | [ 50%]   00:02  -> (00:02 left)\u001b[A\u001b[A\u001b[A\n",
            "\n",
            "\n",
            ":Dept:                             |██████████▌          | [ 50%]   00:02  -> (00:02 left)\u001b[A\u001b[A\u001b[A\n",
            "\n",
            "\n",
            ":Dept:                             |██████████████       | [ 67%]   00:04  -> (00:02 left)\u001b[A\u001b[A\u001b[A\n",
            "\n",
            "\n",
            ":Date:                             |██████████████       | [ 67%]   00:04  -> (00:02 left)\u001b[A\u001b[A\u001b[A\n",
            "\n",
            "\n",
            ":Date:                             |█████████████████▌   | [ 83%]   00:04  -> (00:00 left)\u001b[A\u001b[A\u001b[A\n",
            "\n",
            "\n",
            ":IsHoliday:                        |█████████████████▌   | [ 83%]   00:04  -> (00:00 left)\u001b[A\u001b[A\u001b[A\n",
            "\n",
            "\n",
            ":IsHoliday:                        |█████████████████████| [100%]   00:05  -> (00:00 left)\u001b[A\u001b[A\u001b[A\n",
            "\n",
            "\n",
            ":FEATURES DONE:                    |█████████████████████| [100%]   00:05  -> (00:00 left)\n",
            "\n",
            "\n",
            "\n",
            "                                   |                         | [  0%]   00:00  -> (? left)\u001b[A\u001b[A\u001b[A\n",
            "\n",
            "\n",
            ":Processing Pairwise Features:     |                         | [  0%]   00:00  -> (? left)\u001b[A\u001b[A\u001b[A\n",
            "\n",
            "\n",
            ":Processing Pairwise Features:     |█████████████████████| [100%]   00:00  -> (00:00 left)\u001b[A\u001b[A\u001b[A\n",
            "\n",
            "\n",
            ":PAIRWISE DONE:                    |█████████████████████| [100%]   00:00  -> (00:00 left)\n"
          ],
          "name": "stderr"
        },
        {
          "output_type": "stream",
          "text": [
            "Creating Associations graph... DONE!\n"
          ],
          "name": "stdout"
        }
      ]
    },
    {
      "cell_type": "code",
      "metadata": {
        "id": "wlgTG48AvWFQ",
        "colab_type": "code",
        "colab": {}
      },
      "source": [
        "my_report1.show_html('Report.html')"
      ],
      "execution_count": 59,
      "outputs": []
    }
  ]
}